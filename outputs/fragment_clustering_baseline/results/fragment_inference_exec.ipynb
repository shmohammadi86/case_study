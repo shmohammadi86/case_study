version https://git-lfs.github.com/spec/v1
oid sha256:b2b4b48c25583c0659d3b9df9af46af6db2c857423690a4270ea659a78f1c102
size 352617
