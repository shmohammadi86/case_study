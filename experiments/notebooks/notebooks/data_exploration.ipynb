{
 "cells": [
  {
   "cell_type": "code",
   "execution_count": 3,
   "id": "f3970d67",
   "metadata": {},
   "outputs": [],
   "source": [
    "import numpy as np\n",
    "import pandas as pd\n",
    "from pathlib import Path\n",
    "import os\n",
    "import pickle\n",
    "from tqdm import tqdm\n",
    "\n",
    "import anndata as ad\n",
    "import scanpy as sc\n",
    "\n",
    "from pathlib import Path"
   ]
  },
  {
   "cell_type": "code",
   "execution_count": 4,
   "id": "8e3b55f5",
   "metadata": {},
   "outputs": [],
   "source": [
    "data_path = Path(\"../data\")"
   ]
  },
  {
   "cell_type": "code",
   "execution_count": 20,
   "id": "9ed81401",
   "metadata": {},
   "outputs": [
    {
     "name": "stdout",
     "output_type": "stream",
     "text": [
      "X shape: (128116, 64, 64, 3), Y shape: (128116,), # unique lables: 1000\n"
     ]
    }
   ],
   "source": [
    "with open(data_path / \"train_data/train_data_batch_1\", \"rb\") as fo:\n",
    "    data = pickle.load(fo)\n",
    "    \n",
    "x = (\n",
    "    data[\"data\"]\n",
    "    .reshape((data[\"data\"].shape[0], 3, 64, 64))\n",
    "    .transpose((0, 2, 3, 1))\n",
    ")\n",
    "y = np.array(data[\"labels\"]) - 1\n",
    "\n",
    "print(f\"X shape: {x.shape}, Y shape: {y.shape}, # unique lables: {len(np.unique(y))}\")    "
   ]
  }
 ],
 "metadata": {
  "kernelspec": {
   "display_name": ".venv",
   "language": "python",
   "name": "python3"
  },
  "language_info": {
   "codemirror_mode": {
    "name": "ipython",
    "version": 3
   },
   "file_extension": ".py",
   "mimetype": "text/x-python",
   "name": "python",
   "nbconvert_exporter": "python",
   "pygments_lexer": "ipython3",
   "version": "3.12.0"
  }
 },
 "nbformat": 4,
 "nbformat_minor": 5
}
