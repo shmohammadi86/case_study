{
 "cells": [
  {
   "cell_type": "markdown",
   "metadata": {},
   "source": [
    "# Evaluation (CPU-friendly)\n\n",
    "This notebook demonstrates CPU-only evaluation of the fragment autoencoder using a subsample of the validation dataset.\n\n",
    "Requirements:\n",
    "- Data present under `data/dev_data` (or update the path below).\n",
    "- Git LFS installed and pulled so checkpoints/data are available.\n"
   ]
  },
  {
   "cell_type": "code",
   "execution_count": null,
   "metadata": {},
   "outputs": [],
   "source": [
    "%env CUDA_VISIBLE_DEVICES=\n",
    "import os\n",
    "from pathlib import Path\n",
    "import torch\n",
    "import pytorch_lightning as pl\n",
    "\n",
    "from src.study.trainer import FragmentAutoencoderTrainer\n",
    "\n",
    "# User-configurable paths\n",
    "DATA_PATH = Path('data/dev_data')  # or 'data/train_data'\n",
    "CHECKPOINT_DIR = Path('outputs/conv_autoencoder/checkpoints')\n",
    "\n",
    "# Find the best checkpoint produced by ModelCheckpoint callback\n",
    "ckpts = sorted(CHECKPOINT_DIR.glob('best_model-*.ckpt'))\n",
    "assert ckpts, f'No checkpoint found under {CHECKPOINT_DIR}. Run training first or update path.'\n",
    "best_ckpt = ckpts[0]\n",
    "best_ckpt"
   ]
  },
  {
   "cell_type": "code",
   "execution_count": null,
   "metadata": {},
   "outputs": [],
   "source": [
    "# Load model on CPU\n",
    "model = FragmentAutoencoderTrainer.load_from_checkpoint(\n",
    "    best_ckpt,\n",
    "    map_location=torch.device('cpu'),\n",
    " )\n",
    "\n",
    "# Point the trainer to the evaluation data and set up datasets\n",
    "model.data_path = DATA_PATH\n",
    "model.setup(stage='fit')  # creates train/val datasets; we will use val_dataloader\n",
    "\n",
    "trainer = pl.Trainer(\n",
    "    accelerator='cpu',\n",
    "    devices=1,\n",
    "    logger=False,\n",
    ")\n",
    "val_results = trainer.validate(model)\n",
    "val_results"
   ]
  },
  {
   "cell_type": "markdown",
   "metadata": {},
   "source": [
    "## Notes\n",
    "- Metrics include ARI/NMI (KMeans and KMedoids) and aggregated means logged by the Lightning module.\n",
    "- For a quick smoke test without training, you can point to any available checkpoint in `outputs/.../checkpoints/`.\n"
   ]
  }
 ],
 "metadata": {
  "kernelspec": {
   "display_name": "Python 3",
   "language": "python",
   "name": "python3"
  },
  "language_info": {
   "name": "python",
   "pygments_lexer": "ipython3"
  }
 },
 "nbformat": 4,
 "nbformat_minor": 4
}
